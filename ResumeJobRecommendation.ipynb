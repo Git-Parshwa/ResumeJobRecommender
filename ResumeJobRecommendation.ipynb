{
 "cells": [
  {
   "cell_type": "code",
   "execution_count": 1,
   "id": "6053dcb5",
   "metadata": {},
   "outputs": [
    {
     "name": "stderr",
     "output_type": "stream",
     "text": [
      "[nltk_data] Downloading package stopwords to\n",
      "[nltk_data]     C:\\Users\\parshwa\\AppData\\Roaming\\nltk_data...\n",
      "[nltk_data]   Package stopwords is already up-to-date!\n"
     ]
    },
    {
     "data": {
      "text/plain": [
       "True"
      ]
     },
     "execution_count": 1,
     "metadata": {},
     "output_type": "execute_result"
    }
   ],
   "source": [
    "import numpy as np\n",
    "import pandas as pd\n",
    "from pdfminer.high_level import extract_text\n",
    "import spacy\n",
    "from spacy.matcher import PhraseMatcher\n",
    "import re\n",
    "import requests\n",
    "from bs4 import BeautifulSoup\n",
    "from sklearn.feature_extraction.text import TfidfVectorizer\n",
    "from sklearn.metrics.pairwise import cosine_similarity\n",
    "from nltk.corpus import stopwords\n",
    "import nltk\n",
    "nltk.download('stopwords')"
   ]
  },
  {
   "cell_type": "markdown",
   "id": "504d3dcf",
   "metadata": {},
   "source": [
    "Loading Resume as text from PDF"
   ]
  },
  {
   "cell_type": "code",
   "execution_count": 3,
   "id": "a3d45d6f",
   "metadata": {},
   "outputs": [],
   "source": [
    "def text_from_pdf(file_path):\n",
    "    return extract_text(file_path)"
   ]
  },
  {
   "cell_type": "code",
   "execution_count": 4,
   "id": "7608e2c8",
   "metadata": {},
   "outputs": [
    {
     "name": "stdout",
     "output_type": "stream",
     "text": [
      "Parshwa Modi\n",
      "\n",
      "B.Tech – Information and Communication Technology\n",
      "\n",
      "# 202201165@dau.ac.in (cid:239) linkedin.com/in/parshwa § github.com/parshwa\n",
      "\n",
      "Education\n",
      "\n",
      "Dhirubhai Ambani University\n",
      "CPI: 8.61\n",
      "\n",
      "12th Parth School of Science & Competition (GHSEB)\n",
      "Percentage: 89.08%\n",
      "\n",
      "10th Tejas Vidyalaya (GSEB)\n",
      "Percentage: 90.33%\n",
      "\n",
      "Experience\n",
      "\n",
      "Digikentro\n",
      ".NET Intern\n",
      "\n",
      "2022 - Present\n",
      "Gandhinagar, Gujarat\n",
      "\n",
      "2021 - 2022\n",
      "Vadodara, Gujarat\n",
      "\n",
      "2019 - 2020\n",
      "Vadodara, Gujarat\n",
      "\n",
      "March 2025 – July 2025\n",
      "Vadodara, Gujarat\n",
      "\n",
      "• Gained hands-on experience with the .NET architecture and contributed to improving existing APIs for a\n",
      "\n",
      "production-level application.\n",
      "\n",
      "• Designed and developed secure, token-based RESTful APIs from scratch to support new product features.\n",
      "• Deployed backend services and successfully integrated them with the frontend using FlutterFlow, ensuring smooth\n",
      "\n",
      "end-to-end functionality.\n",
      "\n",
      "Projects\n",
      "\n",
      "Software Development- EventSphere: | React.js, Node.js, tailwind CSS, Vite, MongoDB\n",
      "\n",
      "§\n",
      "\n",
      "• Collaborated in a team to de\n"
     ]
    }
   ],
   "source": [
    "resume_text=text_from_pdf('files/202201165_Parshwa_Modi.pdf')\n",
    "print(resume_text[:1000])"
   ]
  },
  {
   "cell_type": "markdown",
   "id": "b074533b",
   "metadata": {},
   "source": [
    "Extracting Information from resume"
   ]
  },
  {
   "cell_type": "code",
   "execution_count": 5,
   "id": "85175198",
   "metadata": {},
   "outputs": [
    {
     "name": "stdout",
     "output_type": "stream",
     "text": [
      "['sql', 'python']\n"
     ]
    }
   ],
   "source": [
    "nlp=spacy.load(\"en_core_web_sm\")\n",
    "text=resume_text.lower()\n",
    "doc=nlp(text)\n",
    "skills_list=[\"python\",\"java\",\"machine learning\",\"sql\",\"excel\",\"pandas\",\"django\"]\n",
    "\n",
    "matcher=PhraseMatcher(nlp.vocab,attr=\"LOWER\")\n",
    "patterns=[nlp(skill) for skill in skills_list]\n",
    "matcher.add(\"SKILLS\",patterns)\n",
    "\n",
    "matches=matcher(doc)\n",
    "found_skills=list(set([doc[start:end].text for _,start,end in matches]))\n",
    "print(found_skills)"
   ]
  },
  {
   "cell_type": "markdown",
   "id": "0c390211",
   "metadata": {},
   "source": [
    "Scrape Jobs from Web"
   ]
  },
  {
   "cell_type": "code",
   "execution_count": 35,
   "id": "edae68dc",
   "metadata": {},
   "outputs": [],
   "source": [
    "def scrape_jobs():\n",
    "    url=\"https://remoteok.com/remote-dev-jobs\"\n",
    "    headers={\"User-Agent\": \"Mozilla/5.0\"}\n",
    "    response=requests.get(url,headers=headers)\n",
    "\n",
    "    soup=BeautifulSoup(response.text,\"html.parser\")\n",
    "    jobs=soup.find_all(\"tr\",class_=\"job\")\n",
    "\n",
    "    job_list=[]\n",
    "    for job in jobs:\n",
    "        try:\n",
    "            title=job.find(\"h2\",{\"itemprop\": \"title\"}).text.strip()\n",
    "            company=job.find(\"h3\",{\"itemprop\":\"name\"}).text.strip()\n",
    "            tag_elements=job.find_all(\"div\",class_=\"tag\")\n",
    "            tags=[t.find(\"h3\").get_text(strip=True) for t in tag_elements if t.find(\"h3\")]\n",
    "            link=\"https://remoteok.com\" + job.get(\"data-href\")\n",
    "\n",
    "            job_list.append({\n",
    "                \"title\":title,\n",
    "                \"company\":company,\n",
    "                \"tags\":\", \".join(tags),\n",
    "                \"description\":title+\" \"+\" \".join(tags),\n",
    "                \"link\": link\n",
    "            })\n",
    "        except:\n",
    "            continue\n",
    "\n",
    "    df=pd.DataFrame(job_list)\n",
    "    df.to_csv(\"scraped_jobs.csv\",index=False)\n",
    "    df.head()\n",
    "    print(\"Jobs scraped and saved to scraped_jobs.csv\")\n",
    "\n"
   ]
  },
  {
   "cell_type": "code",
   "execution_count": 36,
   "id": "2b8ace3b",
   "metadata": {},
   "outputs": [
    {
     "name": "stdout",
     "output_type": "stream",
     "text": [
      "Jobs scraped and saved to scraped_jobs.csv\n"
     ]
    }
   ],
   "source": [
    "scrape_jobs()"
   ]
  },
  {
   "cell_type": "code",
   "execution_count": 37,
   "id": "feb7ab00",
   "metadata": {},
   "outputs": [
    {
     "data": {
      "text/html": [
       "<div>\n",
       "<style scoped>\n",
       "    .dataframe tbody tr th:only-of-type {\n",
       "        vertical-align: middle;\n",
       "    }\n",
       "\n",
       "    .dataframe tbody tr th {\n",
       "        vertical-align: top;\n",
       "    }\n",
       "\n",
       "    .dataframe thead th {\n",
       "        text-align: right;\n",
       "    }\n",
       "</style>\n",
       "<table border=\"1\" class=\"dataframe\">\n",
       "  <thead>\n",
       "    <tr style=\"text-align: right;\">\n",
       "      <th></th>\n",
       "      <th>title</th>\n",
       "      <th>company</th>\n",
       "      <th>tags</th>\n",
       "      <th>description</th>\n",
       "      <th>link</th>\n",
       "    </tr>\n",
       "  </thead>\n",
       "  <tbody>\n",
       "    <tr>\n",
       "      <th>0</th>\n",
       "      <td>Lead Data Engineer</td>\n",
       "      <td>Open Architects</td>\n",
       "      <td>Engineer, DevOps, Python, Data, DataOps</td>\n",
       "      <td>Lead Data Engineer Engineer DevOps Python Data...</td>\n",
       "      <td>https://remoteok.com/remote-jobs/remote-lead-d...</td>\n",
       "    </tr>\n",
       "    <tr>\n",
       "      <th>1</th>\n",
       "      <td>Javascript Fullstack Engineer Senior</td>\n",
       "      <td>Lumenalta</td>\n",
       "      <td>Engineer, JavaScript</td>\n",
       "      <td>Javascript Fullstack Engineer Senior Engineer ...</td>\n",
       "      <td>https://remoteok.com/remote-jobs/remote-javasc...</td>\n",
       "    </tr>\n",
       "    <tr>\n",
       "      <th>2</th>\n",
       "      <td>Software Engineer</td>\n",
       "      <td>ControlShift</td>\n",
       "      <td>Ruby, Vue</td>\n",
       "      <td>Software Engineer Ruby Vue</td>\n",
       "      <td>https://remoteok.com/remote-jobs/remote-softwa...</td>\n",
       "    </tr>\n",
       "    <tr>\n",
       "      <th>3</th>\n",
       "      <td>Application Engineer</td>\n",
       "      <td>LaunchBrightly</td>\n",
       "      <td>Engineer, JavaScript, Front End, API, GraphQL,...</td>\n",
       "      <td>Application Engineer Engineer JavaScript Front...</td>\n",
       "      <td>https://remoteok.com/remote-jobs/remote-applic...</td>\n",
       "    </tr>\n",
       "    <tr>\n",
       "      <th>4</th>\n",
       "      <td>Svelte Developer</td>\n",
       "      <td>Green Stuff World</td>\n",
       "      <td>JavaScript, Typescript, Svelte, Tailwind, Kotlin</td>\n",
       "      <td>Svelte Developer JavaScript Typescript Svelte ...</td>\n",
       "      <td>https://remoteok.com/remote-jobs/remote-svelte...</td>\n",
       "    </tr>\n",
       "  </tbody>\n",
       "</table>\n",
       "</div>"
      ],
      "text/plain": [
       "                                  title            company  \\\n",
       "0                    Lead Data Engineer    Open Architects   \n",
       "1  Javascript Fullstack Engineer Senior          Lumenalta   \n",
       "2                     Software Engineer       ControlShift   \n",
       "3                  Application Engineer     LaunchBrightly   \n",
       "4                      Svelte Developer  Green Stuff World   \n",
       "\n",
       "                                                tags  \\\n",
       "0            Engineer, DevOps, Python, Data, DataOps   \n",
       "1                               Engineer, JavaScript   \n",
       "2                                          Ruby, Vue   \n",
       "3  Engineer, JavaScript, Front End, API, GraphQL,...   \n",
       "4   JavaScript, Typescript, Svelte, Tailwind, Kotlin   \n",
       "\n",
       "                                         description  \\\n",
       "0  Lead Data Engineer Engineer DevOps Python Data...   \n",
       "1  Javascript Fullstack Engineer Senior Engineer ...   \n",
       "2                         Software Engineer Ruby Vue   \n",
       "3  Application Engineer Engineer JavaScript Front...   \n",
       "4  Svelte Developer JavaScript Typescript Svelte ...   \n",
       "\n",
       "                                                link  \n",
       "0  https://remoteok.com/remote-jobs/remote-lead-d...  \n",
       "1  https://remoteok.com/remote-jobs/remote-javasc...  \n",
       "2  https://remoteok.com/remote-jobs/remote-softwa...  \n",
       "3  https://remoteok.com/remote-jobs/remote-applic...  \n",
       "4  https://remoteok.com/remote-jobs/remote-svelte...  "
      ]
     },
     "execution_count": 37,
     "metadata": {},
     "output_type": "execute_result"
    }
   ],
   "source": [
    "jobs_df=pd.read_csv(\"scraped_jobs.csv\")\n",
    "jobs_df.head()"
   ]
  },
  {
   "cell_type": "code",
   "execution_count": 38,
   "id": "65e3afd3",
   "metadata": {},
   "outputs": [
    {
     "data": {
      "text/plain": [
       "(19, 5)"
      ]
     },
     "execution_count": 38,
     "metadata": {},
     "output_type": "execute_result"
    }
   ],
   "source": [
    "jobs_df.shape"
   ]
  },
  {
   "cell_type": "markdown",
   "id": "32d57102",
   "metadata": {},
   "source": [
    "Match the Resume with the Jobs"
   ]
  },
  {
   "cell_type": "code",
   "execution_count": 39,
   "id": "20b61d66",
   "metadata": {},
   "outputs": [],
   "source": [
    "jobs_astext=jobs_df['description'].astype(str).tolist()"
   ]
  },
  {
   "cell_type": "code",
   "execution_count": 40,
   "id": "316b222f",
   "metadata": {},
   "outputs": [],
   "source": [
    "all_text=[resume_text]+jobs_astext"
   ]
  },
  {
   "cell_type": "code",
   "execution_count": 41,
   "id": "30a388c5",
   "metadata": {},
   "outputs": [],
   "source": [
    "tfid_vectorizer=TfidfVectorizer(stop_words='english')\n",
    "tfid_matrix=tfid_vectorizer.fit_transform(all_text)"
   ]
  },
  {
   "cell_type": "code",
   "execution_count": 42,
   "id": "35664c6c",
   "metadata": {},
   "outputs": [
    {
     "name": "stdout",
     "output_type": "stream",
     "text": [
      "<Compressed Sparse Row sparse matrix of dtype 'float64'\n",
      "\twith 357 stored elements and shape (20, 270)>\n",
      "  Coords\tValues\n",
      "  (0, 185)\t0.13991155010948428\n",
      "  (0, 171)\t0.04663718336982809\n",
      "  (0, 244)\t0.07398292386529791\n",
      "  (0, 143)\t0.04663718336982809\n",
      "  (0, 66)\t0.09327436673965618\n",
      "  (0, 246)\t0.04663718336982809\n",
      "  (0, 10)\t0.04663718336982809\n",
      "  (0, 84)\t0.04663718336982809\n",
      "  (0, 22)\t0.04663718336982809\n",
      "  (0, 54)\t0.04663718336982809\n",
      "  (0, 13)\t0.04663718336982809\n",
      "  (0, 157)\t0.04663718336982809\n",
      "  (0, 64)\t0.09327436673965618\n",
      "  (0, 133)\t0.09327436673965618\n",
      "  (0, 102)\t0.04663718336982809\n",
      "  (0, 97)\t0.04663718336982809\n",
      "  (0, 31)\t0.04663718336982809\n",
      "  (0, 255)\t0.04663718336982809\n",
      "  (0, 77)\t0.04663718336982809\n",
      "  (0, 17)\t0.04663718336982809\n",
      "  (0, 4)\t0.04663718336982809\n",
      "  (0, 186)\t0.04663718336982809\n",
      "  (0, 213)\t0.04663718336982809\n",
      "  (0, 214)\t0.04663718336982809\n",
      "  (0, 68)\t0.04663718336982809\n",
      "  :\t:\n",
      "  (16, 80)\t0.4625482041728122\n",
      "  (16, 170)\t0.4065869514872798\n",
      "  (17, 203)\t0.4966014242683375\n",
      "  (17, 148)\t0.2036101359409451\n",
      "  (17, 105)\t0.14730666862933864\n",
      "  (17, 218)\t0.18149210697627752\n",
      "  (17, 253)\t0.26839628944188065\n",
      "  (17, 174)\t0.5859825766547848\n",
      "  (17, 170)\t0.3246997567534871\n",
      "  (17, 216)\t0.3693903329467107\n",
      "  (18, 237)\t0.3987039942470664\n",
      "  (18, 224)\t0.30489239256635475\n",
      "  (18, 105)\t0.3617604013564793\n",
      "  (18, 227)\t0.4535802633628724\n",
      "  (18, 228)\t0.4535802633628724\n",
      "  (18, 147)\t0.4535802633628724\n",
      "  (19, 244)\t0.21005644272936086\n",
      "  (19, 89)\t0.21005644272936086\n",
      "  (19, 26)\t0.2648297830299208\n",
      "  (19, 111)\t0.5296595660598415\n",
      "  (19, 240)\t0.2648297830299208\n",
      "  (19, 25)\t0.5296595660598415\n",
      "  (19, 262)\t0.2648297830299208\n",
      "  (19, 40)\t0.2648297830299208\n",
      "  (19, 179)\t0.2648297830299208\n"
     ]
    }
   ],
   "source": [
    "print(tfid_matrix)"
   ]
  },
  {
   "cell_type": "code",
   "execution_count": 43,
   "id": "25dc2e13",
   "metadata": {},
   "outputs": [],
   "source": [
    "similarities=cosine_similarity(tfid_matrix[0:1],tfid_matrix[1:]).flatten()\n",
    "jobs_df[\"score\"]=similarities"
   ]
  },
  {
   "cell_type": "code",
   "execution_count": 44,
   "id": "86271606",
   "metadata": {},
   "outputs": [],
   "source": [
    "top_n=5\n",
    "top_jobs=jobs_df.sort_values(\"score\",ascending=False).head(top_n)"
   ]
  },
  {
   "cell_type": "code",
   "execution_count": 49,
   "id": "0bf10f58",
   "metadata": {},
   "outputs": [
    {
     "data": {
      "text/html": [
       "<div>\n",
       "<style scoped>\n",
       "    .dataframe tbody tr th:only-of-type {\n",
       "        vertical-align: middle;\n",
       "    }\n",
       "\n",
       "    .dataframe tbody tr th {\n",
       "        vertical-align: top;\n",
       "    }\n",
       "\n",
       "    .dataframe thead th {\n",
       "        text-align: right;\n",
       "    }\n",
       "</style>\n",
       "<table border=\"1\" class=\"dataframe\">\n",
       "  <thead>\n",
       "    <tr style=\"text-align: right;\">\n",
       "      <th></th>\n",
       "      <th>title</th>\n",
       "      <th>company</th>\n",
       "      <th>tags</th>\n",
       "      <th>description</th>\n",
       "      <th>link</th>\n",
       "      <th>score</th>\n",
       "    </tr>\n",
       "  </thead>\n",
       "  <tbody>\n",
       "    <tr>\n",
       "      <th>10</th>\n",
       "      <td>Senior Fullstack Developer</td>\n",
       "      <td>Swipe Games</td>\n",
       "      <td>Front End, Backend, Full Stack, JavaScript, No...</td>\n",
       "      <td>Senior Fullstack Developer Front End Backend F...</td>\n",
       "      <td>https://remoteok.com/remote-jobs/remote-senior...</td>\n",
       "      <td>0.137832</td>\n",
       "    </tr>\n",
       "    <tr>\n",
       "      <th>11</th>\n",
       "      <td>Senior Full Stack Developer</td>\n",
       "      <td>Zammad</td>\n",
       "      <td>Full Stack, Full Time</td>\n",
       "      <td>Senior Full Stack Developer Full Stack Full Time</td>\n",
       "      <td>https://remoteok.com/remote-jobs/remote-senior...</td>\n",
       "      <td>0.088063</td>\n",
       "    </tr>\n",
       "    <tr>\n",
       "      <th>14</th>\n",
       "      <td>Senior AI Engineer Python &amp; LLM Engineer</td>\n",
       "      <td>Lemon.io</td>\n",
       "      <td>Python, AWS, GCP, Azure, Openai, Llm, JavaScri...</td>\n",
       "      <td>Senior AI Engineer Python &amp; LLM Engineer Pytho...</td>\n",
       "      <td>https://remoteok.com/remote-jobs/remote-senior...</td>\n",
       "      <td>0.086453</td>\n",
       "    </tr>\n",
       "    <tr>\n",
       "      <th>17</th>\n",
       "      <td>Spanish Speaking Software Support Engineer</td>\n",
       "      <td>Payara</td>\n",
       "      <td>Engineer, Java</td>\n",
       "      <td>Spanish Speaking Software Support Engineer Eng...</td>\n",
       "      <td>https://remoteok.com/remote-jobs/remote-spanis...</td>\n",
       "      <td>0.077709</td>\n",
       "    </tr>\n",
       "    <tr>\n",
       "      <th>6</th>\n",
       "      <td>Senior Software Engineer</td>\n",
       "      <td>ModelVault</td>\n",
       "      <td>Full Stack, Infra</td>\n",
       "      <td>Senior Software Engineer Full Stack Infra</td>\n",
       "      <td>https://remoteok.com/remote-jobs/remote-senior...</td>\n",
       "      <td>0.075119</td>\n",
       "    </tr>\n",
       "  </tbody>\n",
       "</table>\n",
       "</div>"
      ],
      "text/plain": [
       "                                         title      company  \\\n",
       "10                  Senior Fullstack Developer  Swipe Games   \n",
       "11                 Senior Full Stack Developer       Zammad   \n",
       "14    Senior AI Engineer Python & LLM Engineer     Lemon.io   \n",
       "17  Spanish Speaking Software Support Engineer       Payara   \n",
       "6                     Senior Software Engineer   ModelVault   \n",
       "\n",
       "                                                 tags  \\\n",
       "10  Front End, Backend, Full Stack, JavaScript, No...   \n",
       "11                              Full Stack, Full Time   \n",
       "14  Python, AWS, GCP, Azure, Openai, Llm, JavaScri...   \n",
       "17                                     Engineer, Java   \n",
       "6                                   Full Stack, Infra   \n",
       "\n",
       "                                          description  \\\n",
       "10  Senior Fullstack Developer Front End Backend F...   \n",
       "11   Senior Full Stack Developer Full Stack Full Time   \n",
       "14  Senior AI Engineer Python & LLM Engineer Pytho...   \n",
       "17  Spanish Speaking Software Support Engineer Eng...   \n",
       "6           Senior Software Engineer Full Stack Infra   \n",
       "\n",
       "                                                 link     score  \n",
       "10  https://remoteok.com/remote-jobs/remote-senior...  0.137832  \n",
       "11  https://remoteok.com/remote-jobs/remote-senior...  0.088063  \n",
       "14  https://remoteok.com/remote-jobs/remote-senior...  0.086453  \n",
       "17  https://remoteok.com/remote-jobs/remote-spanis...  0.077709  \n",
       "6   https://remoteok.com/remote-jobs/remote-senior...  0.075119  "
      ]
     },
     "execution_count": 49,
     "metadata": {},
     "output_type": "execute_result"
    }
   ],
   "source": [
    "top_jobs"
   ]
  }
 ],
 "metadata": {
  "kernelspec": {
   "display_name": ".venv",
   "language": "python",
   "name": "python3"
  },
  "language_info": {
   "codemirror_mode": {
    "name": "ipython",
    "version": 3
   },
   "file_extension": ".py",
   "mimetype": "text/x-python",
   "name": "python",
   "nbconvert_exporter": "python",
   "pygments_lexer": "ipython3",
   "version": "3.12.6"
  }
 },
 "nbformat": 4,
 "nbformat_minor": 5
}
